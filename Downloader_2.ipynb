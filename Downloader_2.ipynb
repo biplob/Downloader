{
 "cells": [
  {
   "cell_type": "code",
   "execution_count": 2,
   "metadata": {},
   "outputs": [
    {
     "name": "stdout",
     "output_type": "stream",
     "text": [
      "Requirement already satisfied: pytube3 in c:\\users\\user\\anaconda3\\lib\\site-packages (9.6.4)\n",
      "Requirement already satisfied: typing-extensions in c:\\users\\user\\anaconda3\\lib\\site-packages (from pytube3) (4.2.0)\n",
      "Note: you may need to restart the kernel to use updated packages.\n"
     ]
    }
   ],
   "source": [
    "# Install pytube\n",
    "pip install pytube3"
   ]
  },
  {
   "cell_type": "code",
   "execution_count": 3,
   "metadata": {},
   "outputs": [
    {
     "name": "stdout",
     "output_type": "stream",
     "text": [
      "Collecting pytubeX\n",
      "  Downloading https://files.pythonhosted.org/packages/1a/0f/b9c065d66ea83bb434ce09ec23aab7c50cf82c431b1243f57f2b987836f0/pytubeX-0.1.4.tar.gz (47kB)\n",
      "Requirement already satisfied: typing_extensions in c:\\users\\user\\anaconda3\\lib\\site-packages (from pytubeX) (4.2.0)\n",
      "Building wheels for collected packages: pytubeX\n",
      "  Building wheel for pytubeX (setup.py): started\n",
      "  Building wheel for pytubeX (setup.py): finished with status 'done'\n",
      "  Stored in directory: C:\\Users\\USER\\AppData\\Local\\pip\\Cache\\wheels\\0f\\11\\35\\4239d410d92cdf3a76f1d200f9840ad60b0f6f9b6bf1abb995\n",
      "Successfully built pytubeX\n",
      "Installing collected packages: pytubeX\n",
      "Successfully installed pytubeX-0.1.4\n",
      "Note: you may need to restart the kernel to use updated packages.\n"
     ]
    }
   ],
   "source": [
    "pip install pytubeX"
   ]
  },
  {
   "cell_type": "code",
   "execution_count": 4,
   "metadata": {},
   "outputs": [],
   "source": [
    "# Import pytube libary\n",
    "from pytube import YouTube"
   ]
  },
  {
   "cell_type": "code",
   "execution_count": null,
   "metadata": {},
   "outputs": [],
   "source": [
    "\n",
    "#Asking for all the video links\n",
    "n = int(input(\"Enter the number of youtube videos to download:   \"))\n",
    "links=[]\n",
    "print(\"\\nEnter all the links one per line:\")\n",
    "\n",
    "for i in range(0,n):\n",
    "    temp = input()\n",
    "    links.append(temp)\n",
    "\n",
    "#Showing all details for videos and downloading them one by one\n",
    "for i in range(0,n):\n",
    "    link = links[i]\n",
    "    yt = YouTube(link)\n",
    "    print(\"\\nDetails for Video\",i+1,\"\\n\")\n",
    "    print(\"Title of video:   \",yt.title)\n",
    "    print(\"Number of views:  \",yt.views)\n",
    "    print(\"Length of video:  \",yt.length,\"seconds\")\n",
    "    stream = str(yt.streams.filter(progressive=True))\n",
    "    stream = stream[1:]\n",
    "    stream = stream[:-1]\n",
    "    streamlist = stream.split(\", \")\n",
    "    print(\"\\nAll available options for downloads:\\n\")\n",
    "    for i in range(0,len(streamlist)):\n",
    "        st = streamlist[i].split(\" \")\n",
    "        print(i+1,\") \",st[1],\" and \",st[3],sep='')\n",
    "    tag = int(input(\"\\nEnter the itag of your preferred stream to download:   \"))\n",
    "    ys = yt.streams.get_by_itag(tag)\n",
    "    print(\"\\nDownloading...\")\n",
    "    ys.download()\n",
    "    print(\"\\nDownload completed!!\")\n",
    "    print()"
   ]
  },
  {
   "cell_type": "code",
   "execution_count": null,
   "metadata": {},
   "outputs": [],
   "source": []
  }
 ],
 "metadata": {
  "kernelspec": {
   "display_name": "Python 3",
   "language": "python",
   "name": "python3"
  },
  "language_info": {
   "codemirror_mode": {
    "name": "ipython",
    "version": 3
   },
   "file_extension": ".py",
   "mimetype": "text/x-python",
   "name": "python",
   "nbconvert_exporter": "python",
   "pygments_lexer": "ipython3",
   "version": "3.7.3"
  }
 },
 "nbformat": 4,
 "nbformat_minor": 2
}
